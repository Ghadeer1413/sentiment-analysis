{
 "cells": [
  {
   "cell_type": "code",
   "execution_count": 1,
   "metadata": {},
   "outputs": [],
   "source": [
    "import pandas as pd\n",
    "import numpy as np\n",
    "import nltk\n",
    "import codecs\n",
    "import re\n",
    "import matplotlib.pyplot as plt\n",
    "\n",
    "from   nltk.stem.isri                  import ISRIStemmer\n",
    "from   sklearn.feature_extraction.text import CountVectorizer,TfidfVectorizer\n",
    "from   sklearn.model_selection         import train_test_split\n",
    "from   sklearn.naive_bayes             import ComplementNB\n",
    "\n",
    "from   sklearn.metrics                 import classification_report\n",
    "\n",
    "import time\n",
    "st  = ISRIStemmer()\n",
    "import warnings\n",
    "warnings.filterwarnings('ignore')"
   ]
  },
  {
   "cell_type": "code",
   "execution_count": 2,
   "metadata": {
    "scrolled": true
   },
   "outputs": [
    {
     "data": {
      "text/html": [
       "<div>\n",
       "<style scoped>\n",
       "    .dataframe tbody tr th:only-of-type {\n",
       "        vertical-align: middle;\n",
       "    }\n",
       "\n",
       "    .dataframe tbody tr th {\n",
       "        vertical-align: top;\n",
       "    }\n",
       "\n",
       "    .dataframe thead th {\n",
       "        text-align: right;\n",
       "    }\n",
       "</style>\n",
       "<table border=\"1\" class=\"dataframe\">\n",
       "  <thead>\n",
       "    <tr style=\"text-align: right;\">\n",
       "      <th></th>\n",
       "      <th>text</th>\n",
       "      <th>label</th>\n",
       "    </tr>\n",
       "  </thead>\n",
       "  <tbody>\n",
       "    <tr>\n",
       "      <th>0</th>\n",
       "      <td>تستاهل فنانة العرب قلب أخضر من يمثل الأغنية ال...</td>\n",
       "      <td>1</td>\n",
       "    </tr>\n",
       "    <tr>\n",
       "      <th>1</th>\n",
       "      <td>ومن غير فنانة العرب يستاهل التكريم بنت زايد تس...</td>\n",
       "      <td>1</td>\n",
       "    </tr>\n",
       "    <tr>\n",
       "      <th>2</th>\n",
       "      <td>تستاهل فنانة العرب التكريم</td>\n",
       "      <td>1</td>\n",
       "    </tr>\n",
       "    <tr>\n",
       "      <th>3</th>\n",
       "      <td>تستاهل ام فاهد كل خير</td>\n",
       "      <td>1</td>\n",
       "    </tr>\n",
       "    <tr>\n",
       "      <th>4</th>\n",
       "      <td>شكراً هيئة الترفيه على هذا التكريم المُستحق لم...</td>\n",
       "      <td>1</td>\n",
       "    </tr>\n",
       "  </tbody>\n",
       "</table>\n",
       "</div>"
      ],
      "text/plain": [
       "                                                text  label\n",
       "0  تستاهل فنانة العرب قلب أخضر من يمثل الأغنية ال...      1\n",
       "1  ومن غير فنانة العرب يستاهل التكريم بنت زايد تس...      1\n",
       "2                         تستاهل فنانة العرب التكريم      1\n",
       "3                              تستاهل ام فاهد كل خير      1\n",
       "4  شكراً هيئة الترفيه على هذا التكريم المُستحق لم...      1"
      ]
     },
     "execution_count": 2,
     "metadata": {},
     "output_type": "execute_result"
    }
   ],
   "source": [
    "data = pd.read_excel(\"data/DtaSetsGhadeer.xlsx\")\n",
    "data.head()"
   ]
  },
  {
   "cell_type": "markdown",
   "metadata": {},
   "source": [
    "### Data pre-processing"
   ]
  },
  {
   "cell_type": "code",
   "execution_count": 3,
   "metadata": {},
   "outputs": [],
   "source": [
    "data = data[~(data.label==2)]\n",
    "data = data.dropna()"
   ]
  },
  {
   "cell_type": "code",
   "execution_count": 4,
   "metadata": {},
   "outputs": [],
   "source": [
    "def clean(text):\n",
    "    text = str(text)\n",
    "    text = normalize(text)\n",
    "    stopWords \t\t\t= codecs.open(\"data/stopWords.csv\",\"r\",encoding='utf-8').read().split('\\n')#load stopwords list\n",
    "    words \t\t\t\t= text.split(' ')#split input text to words tokines\n",
    "    filtered_words \t\t= []\n",
    "    for word in words:#loop on words\n",
    "        if word not in stopWords:#check if word is stopword or not\n",
    "            filtered_words.append(st.stem(word))#append to filtered list if not stopword\n",
    "    filtered_sentence \t= ' '.join(filtered_words)#concatenate all filtered words to new sentences\n",
    "    return filtered_sentence"
   ]
  },
  {
   "cell_type": "code",
   "execution_count": 5,
   "metadata": {},
   "outputs": [],
   "source": [
    "def normalize(text):\n",
    "    text = str(text)\n",
    "    text = re.sub(r\"[إأٱآا]\", \"ا\", text)\n",
    "    text = re.sub(r\"ى\", \"ي\", text)\n",
    "    text = re.sub(r\"ئ\", \"ء\", text)\n",
    "    text = re.sub(r'[^ا-ي ]', \"\", text)\n",
    "    text = re.sub(' +', ' ',text)\n",
    "    text = re.sub('ـ',\"\",text)\n",
    "    return text"
   ]
  },
  {
   "cell_type": "markdown",
   "metadata": {},
   "source": [
    "### Train test split"
   ]
  },
  {
   "cell_type": "code",
   "execution_count": 6,
   "metadata": {},
   "outputs": [],
   "source": [
    "tfidf = TfidfVectorizer()\n",
    "def preprocess(x,y):\n",
    "    x     = tfidf.fit_transform(x)#.toarray()\n",
    "    x_train,x_test,y_train,y_test = train_test_split(x,y,test_size=0.25,random_state = 0)\n",
    "    return x_train,x_test,y_train,y_test\n"
   ]
  },
  {
   "cell_type": "markdown",
   "metadata": {},
   "source": [
    "### Modeling"
   ]
  },
  {
   "cell_type": "code",
   "execution_count": 7,
   "metadata": {},
   "outputs": [],
   "source": [
    "def compare(x_train,x_test,y_train,y_test):\n",
    "    global clf\n",
    "    global clfs\n",
    "    clfs = [ComplementNB()]\n",
    "    \n",
    "    model_names    = []\n",
    "    accuracies     = []\n",
    "    crs            = []\n",
    "    times          = []\n",
    "    for clf in clfs:\n",
    "        model_name = str(clf).split('(')[0]\n",
    "        print(model_name)\n",
    "        if model_name==\"ComplementNB\":\n",
    "            x_train = x_train.toarray()\n",
    "            x_test  = x_test.toarray()\n",
    "\n",
    "        t          = time.time()\n",
    "        clf.fit(x_train,y_train)\n",
    "        accuracy   = round(clf.score(x_test,y_test)*100,2)\n",
    "        cr         = classification_report(y_test,clf.predict(x_test),output_dict=True)\n",
    "        t_time     = round(time.time()-t,2)\n",
    "        accuracies.append(accuracy)\n",
    "        times.append(t_time)\n",
    "        model_names.append(model_name)\n",
    "        crs.append(list(cr['0'].values())+list(cr['1'].values()))\n",
    "    crs = np.array(crs)\n",
    "    res = pd.DataFrame({\"model_name\":model_names,\"accuracy\":accuracies,\"precision_0\":crs[:,0],\n",
    "                        \"precision_0\":crs[:,0],\"recall_0\":crs[:,1],\"f1-score_0\":crs[:,2],\n",
    "                        \"support_0\":crs[:,3],\"precision_1\":crs[:,4],\"recall_1\":crs[:,5],\n",
    "                        \"f1-score_1\":crs[:,6],\"support_1\":crs[:,7],\"time\":times\n",
    "                       })\n",
    "    res = res.sort_values(by=\"accuracy\",ascending=False)\n",
    "    return res   "
   ]
  },
  {
   "cell_type": "markdown",
   "metadata": {},
   "source": [
    "#### Evaluation without any data preprocessing"
   ]
  },
  {
   "cell_type": "code",
   "execution_count": 8,
   "metadata": {},
   "outputs": [
    {
     "name": "stdout",
     "output_type": "stream",
     "text": [
      "ComplementNB\n"
     ]
    }
   ],
   "source": [
    "x_train,x_test,y_train,y_test = preprocess(data.text.astype(\"str\"),data.label)\n",
    "df_without = compare(x_train,x_test,y_train,y_test)"
   ]
  },
  {
   "cell_type": "code",
   "execution_count": 9,
   "metadata": {},
   "outputs": [
    {
     "name": "stdout",
     "output_type": "stream",
     "text": [
      "ComplementNB()\n"
     ]
    },
    {
     "data": {
      "text/plain": [
       "array([0], dtype=int64)"
      ]
     },
     "execution_count": 9,
     "metadata": {},
     "output_type": "execute_result"
    }
   ],
   "source": [
    "text = \"مثل الشياطين ما يصير الاحتفال إلا ليلة الجمعه حسبي الله على من قرر ذلك                                أكثروا من الصلاة على النبي ﷺ\"\n",
    "text = tfidf.transform([text]).toarray()\n",
    "clf = clfs[0]\n",
    "print(clf)\n",
    "clf.predict(text)"
   ]
  },
  {
   "cell_type": "code",
   "execution_count": 10,
   "metadata": {},
   "outputs": [
    {
     "name": "stdout",
     "output_type": "stream",
     "text": [
      "(48, 563)\n",
      "(16, 563)\n"
     ]
    }
   ],
   "source": [
    "print(x_train.shape)\n",
    "print(x_test.shape)"
   ]
  },
  {
   "cell_type": "markdown",
   "metadata": {},
   "source": [
    "#### Evaluation with stemming & normalization & stopwords"
   ]
  },
  {
   "cell_type": "code",
   "execution_count": 11,
   "metadata": {
    "scrolled": true
   },
   "outputs": [
    {
     "name": "stdout",
     "output_type": "stream",
     "text": [
      "ComplementNB\n"
     ]
    }
   ],
   "source": [
    "x = data['text'].apply(clean)\n",
    "y = data.label\n",
    "x_train,x_test,y_train,y_test = preprocess(x,y)\n",
    "df_all = compare(x_train,x_test,y_train,y_test)"
   ]
  },
  {
   "cell_type": "code",
   "execution_count": 12,
   "metadata": {},
   "outputs": [],
   "source": [
    "models_res = [\n",
    "    {\"data\":df_all,\"title\":\"Result after applying all preprocessing Methods\"},\n",
    "]"
   ]
  },
  {
   "cell_type": "code",
   "execution_count": 13,
   "metadata": {},
   "outputs": [
    {
     "data": {
      "text/html": [
       "<div>\n",
       "<style scoped>\n",
       "    .dataframe tbody tr th:only-of-type {\n",
       "        vertical-align: middle;\n",
       "    }\n",
       "\n",
       "    .dataframe tbody tr th {\n",
       "        vertical-align: top;\n",
       "    }\n",
       "\n",
       "    .dataframe thead th {\n",
       "        text-align: right;\n",
       "    }\n",
       "</style>\n",
       "<table border=\"1\" class=\"dataframe\">\n",
       "  <thead>\n",
       "    <tr style=\"text-align: right;\">\n",
       "      <th></th>\n",
       "      <th>model_name</th>\n",
       "      <th>accuracy</th>\n",
       "      <th>precision_0</th>\n",
       "      <th>recall_0</th>\n",
       "      <th>f1-score_0</th>\n",
       "      <th>support_0</th>\n",
       "      <th>precision_1</th>\n",
       "      <th>recall_1</th>\n",
       "      <th>f1-score_1</th>\n",
       "      <th>support_1</th>\n",
       "      <th>time</th>\n",
       "    </tr>\n",
       "  </thead>\n",
       "  <tbody>\n",
       "    <tr>\n",
       "      <th>0</th>\n",
       "      <td>ComplementNB</td>\n",
       "      <td>50.0</td>\n",
       "      <td>1.0</td>\n",
       "      <td>0.384615</td>\n",
       "      <td>0.555556</td>\n",
       "      <td>13.0</td>\n",
       "      <td>0.272727</td>\n",
       "      <td>1.0</td>\n",
       "      <td>0.428571</td>\n",
       "      <td>3.0</td>\n",
       "      <td>0.0</td>\n",
       "    </tr>\n",
       "  </tbody>\n",
       "</table>\n",
       "</div>"
      ],
      "text/plain": [
       "     model_name  accuracy  precision_0  recall_0  f1-score_0  support_0  \\\n",
       "0  ComplementNB      50.0          1.0  0.384615    0.555556       13.0   \n",
       "\n",
       "   precision_1  recall_1  f1-score_1  support_1  time  \n",
       "0     0.272727       1.0    0.428571        3.0   0.0  "
      ]
     },
     "execution_count": 13,
     "metadata": {},
     "output_type": "execute_result"
    }
   ],
   "source": [
    "models_res[0]['data']"
   ]
  },
  {
   "cell_type": "code",
   "execution_count": null,
   "metadata": {},
   "outputs": [],
   "source": []
  },
  {
   "cell_type": "code",
   "execution_count": null,
   "metadata": {},
   "outputs": [],
   "source": [
    "data['label'].value_counts()"
   ]
  },
  {
   "cell_type": "code",
   "execution_count": null,
   "metadata": {
    "scrolled": true
   },
   "outputs": [],
   "source": [
    "plotdata = pd.DataFrame({\n",
    "    \"Tweets\": [20, 44]}, \n",
    "    index=[\"Positive\", \"Negative\"])\n",
    "\n",
    "plotdata['Tweets'].plot(kind=\"bar\",color=['green','red'])\n",
    "plt.xlabel(\"Tweets\")\n",
    "plt.ylabel(\"Counts\")\n",
    "plt.title(\"Sentiment Analysis\")\n",
    "plotdata.head()"
   ]
  },
  {
   "cell_type": "code",
   "execution_count": null,
   "metadata": {
    "scrolled": true
   },
   "outputs": [],
   "source": [
    "plotdata = pd.DataFrame({\n",
    "    \"Tweets\": [20, 44]}, \n",
    "    index=[\"Positive\", \"Negative\"])\n",
    "\n",
    "plotdata['Tweets'].plot(kind=\"pie\")\n",
    "plt.title(\"Sentiment Analysis\")\n",
    "plotdata.head()"
   ]
  },
  {
   "cell_type": "code",
   "execution_count": null,
   "metadata": {},
   "outputs": [],
   "source": []
  }
 ],
 "metadata": {
  "kernelspec": {
   "display_name": "Python 3",
   "language": "python",
   "name": "python3"
  },
  "language_info": {
   "codemirror_mode": {
    "name": "ipython",
    "version": 3
   },
   "file_extension": ".py",
   "mimetype": "text/x-python",
   "name": "python",
   "nbconvert_exporter": "python",
   "pygments_lexer": "ipython3",
   "version": "3.8.3"
  }
 },
 "nbformat": 4,
 "nbformat_minor": 4
}
